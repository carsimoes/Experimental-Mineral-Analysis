{
  "cells": [
    {
      "cell_type": "markdown",
      "metadata": {
        "id": "rey6A-KQgvwC"
      },
      "source": [
        "<h1 style='color: blue; font-size: 34px; font-weight: bold;'> Factorial Design in Mineral Hardness Experiment\n",
        "</h1>\n"
      ]
    },
    {
      "cell_type": "markdown",
      "metadata": {
        "id": "FcWr5ray0-Aa"
      },
      "source": [
        "# Planning the experiment\n"
      ]
    },
    {
      "cell_type": "code",
      "execution_count": 10,
      "metadata": {
        "colab": {
          "base_uri": "https://localhost:8080/"
        },
        "id": "h_qte1ky1HxK",
        "outputId": "f58efe6e-2bda-4501-dfbf-d6305bad5a31"
      },
      "outputs": [],
      "source": [
        "import pandas as pd\n",
        "import numpy as np\n",
        "#!pip install pyDOE2\n",
        "from pyDOE2 import ff2n  # Full factorial design\n",
        "import statsmodels.api as sm\n",
        "import statsmodels.formula.api as smf\n",
        "import matplotlib.pyplot as plt\n",
        "import seaborn as sns"
      ]
    },
    {
      "cell_type": "code",
      "execution_count": 11,
      "metadata": {
        "colab": {
          "base_uri": "https://localhost:8080/"
        },
        "id": "-M1y6Tu_17bB",
        "outputId": "ccc4e335-3917-46ba-8567-ac96a7fb0c5f"
      },
      "outputs": [
        {
          "name": "stdout",
          "output_type": "stream",
          "text": [
            "Dataset Overview:\n",
            "<class 'pandas.core.frame.DataFrame'>\n",
            "RangeIndex: 3112 entries, 0 to 3111\n",
            "Columns: 140 entries, Unnamed: 0 to Calculated Density\n",
            "dtypes: float64(138), int64(1), object(1)\n",
            "memory usage: 3.3+ MB\n",
            "None\n"
          ]
        }
      ],
      "source": [
        "# Load the dataset\n",
        "url = \"https://raw.githubusercontent.com/carsimoes/Experimental-Mineral-Analysis/main/Notebook/Data/Minerals_Database.csv\"\n",
        "df = pd.read_csv(url)\n",
        "\n",
        "# Display basic information about the dataset\n",
        "print(\"Dataset Overview:\")\n",
        "print(df.info())"
      ]
    },
    {
      "cell_type": "code",
      "execution_count": 12,
      "metadata": {
        "colab": {
          "base_uri": "https://localhost:8080/"
        },
        "id": "FrqzNqlK2ZVR",
        "outputId": "8d5de5d4-1a2d-4c83-9e56-cb95eb73a051"
      },
      "outputs": [
        {
          "name": "stdout",
          "output_type": "stream",
          "text": [
            "\n",
            "First 5 rows:\n",
            "   Unnamed: 0             Name  Crystal Structure  Mohs Hardness  Diaphaneity  \\\n",
            "0           0  Abenakiite-(Ce)                5.0           4.50          0.0   \n",
            "1           1     Abernathyite                4.0           2.75          3.0   \n",
            "2           2         Abhurite                5.0           2.00          3.0   \n",
            "3           3   Abswurmbachite                0.0           0.00          0.0   \n",
            "4           4       Actinolite                2.0           5.50          2.0   \n",
            "\n",
            "   Specific Gravity  Optical  Refractive Index  Dispersion  Hydrogen  ...  \\\n",
            "0             3.240      3.0             1.580         0.0       0.0  ...   \n",
            "1             3.446      3.0             1.592         0.0       1.0  ...   \n",
            "2             4.420      3.0             2.085         0.0       3.0  ...   \n",
            "3             0.000      0.0             0.000         0.0       0.0  ...   \n",
            "4             1.050      4.0             1.634         0.0       1.0  ...   \n",
            "\n",
            "   Acetate  Phosphate  Sulphate  Carbonate  Ammonium  Hydrated Water  count  \\\n",
            "0      0.0        0.0       0.0        0.0       0.0             0.0   23.0   \n",
            "1      0.0        0.0       0.0        0.0       0.0             1.0    9.0   \n",
            "2      0.0        0.0       0.0        0.0       0.0             0.0   17.0   \n",
            "3      0.0        0.0       0.0        0.0       0.0             0.0   12.0   \n",
            "4      0.0        0.0       0.0        0.0       0.0             0.0   28.0   \n",
            "\n",
            "   Molar Mass  Molar Volume  Calculated Density  \n",
            "0  817.339002      0.123390               5.498  \n",
            "1  435.069330      0.056083               6.439  \n",
            "2  921.092220      0.122631               6.234  \n",
            "3  550.019900      0.033658              13.563  \n",
            "4  861.185368      0.112074               6.378  \n",
            "\n",
            "[5 rows x 140 columns]\n"
          ]
        }
      ],
      "source": [
        "# Show the first few rows\n",
        "print(\"\\nFirst 5 rows:\")\n",
        "print(df.head())"
      ]
    },
    {
      "cell_type": "code",
      "execution_count": 13,
      "metadata": {
        "colab": {
          "base_uri": "https://localhost:8080/"
        },
        "id": "tkszrlU35UBS",
        "outputId": "08701c1d-70bd-4e1c-fdb1-fa8f6bb28b1d"
      },
      "outputs": [
        {
          "name": "stdout",
          "output_type": "stream",
          "text": [
            "\n",
            "Summary Statistics:\n",
            "        Unnamed: 0  Crystal Structure  Mohs Hardness  Diaphaneity  \\\n",
            "count  3112.000000        3112.000000    3112.000000  3112.000000   \n",
            "mean   1555.500000           0.677057       0.845925     0.405206   \n",
            "std     898.501345           1.388575       1.844267     0.877966   \n",
            "min       0.000000           0.000000       0.000000     0.000000   \n",
            "25%     777.750000           0.000000       0.000000     0.000000   \n",
            "50%    1555.500000           0.000000       0.000000     0.000000   \n",
            "75%    2333.250000           0.000000       0.000000     0.000000   \n",
            "max    3111.000000           6.000000       9.500000     3.000000   \n",
            "\n",
            "       Specific Gravity      Optical  Refractive Index   Dispersion  \\\n",
            "count       3112.000000  3112.000000       3112.000000  3112.000000   \n",
            "mean           0.666800     0.701157          0.323626     0.000459   \n",
            "std            1.481692     1.456768          0.678769     0.006851   \n",
            "min            0.000000     0.000000          0.000000     0.000000   \n",
            "25%            0.000000     0.000000          0.000000     0.000000   \n",
            "50%            0.000000     0.000000          0.000000     0.000000   \n",
            "75%            0.000000     0.000000          0.000000     0.000000   \n",
            "max            9.593000     4.000000          3.383000     0.213000   \n",
            "\n",
            "          Hydrogen       Helium  ...  Acetate  Phosphate  Sulphate  Carbonate  \\\n",
            "count  3112.000000  3112.000000  ...   3112.0     3112.0    3112.0     3112.0   \n",
            "mean      1.311375     0.000321  ...      0.0        0.0       0.0        0.0   \n",
            "std       3.643521     0.017926  ...      0.0        0.0       0.0        0.0   \n",
            "min       0.000000     0.000000  ...      0.0        0.0       0.0        0.0   \n",
            "25%       0.000000     0.000000  ...      0.0        0.0       0.0        0.0   \n",
            "50%       0.000000     0.000000  ...      0.0        0.0       0.0        0.0   \n",
            "75%       1.000000     0.000000  ...      0.0        0.0       0.0        0.0   \n",
            "max      48.000000     1.000000  ...      0.0        0.0       0.0        0.0   \n",
            "\n",
            "          Ammonium  Hydrated Water        count    Molar Mass  Molar Volume  \\\n",
            "count  3112.000000     3112.000000  3112.000000   3112.000000   3112.000000   \n",
            "mean      0.002892        0.903920    19.755463    607.052968      0.110810   \n",
            "std       0.064578        2.654198    19.762060    673.908663      0.117827   \n",
            "min       0.000000        0.000000     1.000000      1.007940      0.011030   \n",
            "25%       0.000000        0.000000     8.000000    239.417117      0.044832   \n",
            "50%       0.000000        0.000000    15.000000    411.769265      0.078555   \n",
            "75%       0.000000        0.000000    25.000000    747.094885      0.134544   \n",
            "max       2.000000       43.000000   385.000000  14241.839600      1.962209   \n",
            "\n",
            "       Calculated Density  \n",
            "count          3112.00000  \n",
            "mean              5.28411  \n",
            "std               2.86038  \n",
            "min               0.07500  \n",
            "25%               3.15475  \n",
            "50%               4.82150  \n",
            "75%               6.80450  \n",
            "max              13.98600  \n",
            "\n",
            "[8 rows x 139 columns]\n"
          ]
        }
      ],
      "source": [
        "# Summary statistics\n",
        "print(\"\\nSummary Statistics:\")\n",
        "print(df.describe())"
      ]
    },
    {
      "cell_type": "code",
      "execution_count": 14,
      "metadata": {
        "colab": {
          "base_uri": "https://localhost:8080/"
        },
        "id": "dmhB89Bn5fDp",
        "outputId": "94ddfc09-fe40-4038-c7a7-ff0137f32f90"
      },
      "outputs": [
        {
          "name": "stdout",
          "output_type": "stream",
          "text": [
            "\n",
            "Missing Values:\n",
            "Unnamed: 0            0\n",
            "Name                  0\n",
            "Crystal Structure     0\n",
            "Mohs Hardness         0\n",
            "Diaphaneity           0\n",
            "                     ..\n",
            "Hydrated Water        0\n",
            "count                 0\n",
            "Molar Mass            0\n",
            "Molar Volume          0\n",
            "Calculated Density    0\n",
            "Length: 140, dtype: int64\n"
          ]
        }
      ],
      "source": [
        "# Check for missing values\n",
        "print(\"\\nMissing Values:\")\n",
        "print(df.isnull().sum())"
      ]
    },
    {
      "cell_type": "code",
      "execution_count": 15,
      "metadata": {
        "id": "VwmA5LGZIrJS"
      },
      "outputs": [],
      "source": [
        "df.columns = df.columns.str.replace(\" \", \"_\")\n",
        "factor_2 = \"Specific_Gravity\"\n",
        "\n"
      ]
    },
    {
      "cell_type": "code",
      "execution_count": 16,
      "metadata": {
        "id": "9PR3cy6b5hWB"
      },
      "outputs": [],
      "source": [
        "# Define factors (Crystal Structure & Specific Gravity)\n",
        "factor_1 = \"Crystal_Structure\"  # Example factor 1\n",
        "factor_2 = \"Specific_Gravity\"  # Example factor 2\n",
        "response_var = \"Optical\"  # Example response variable"
      ]
    },
    {
      "cell_type": "code",
      "execution_count": 17,
      "metadata": {
        "id": "6vy-r-g9Bcr5"
      },
      "outputs": [],
      "source": [
        "# Create a two-level factorial design (coded as -1 and +1)\n",
        "factorial_design = ff2n(2)  # 2 factors, 2 levels each\n",
        "\n",
        "# Define high (+1) and low (-1) levels for each factor\n",
        "low_high = {\n",
        "    factor_1: [df[factor_1].min(), df[factor_1].max()],\n",
        "    factor_2: [df[factor_2].min(), df[factor_2].max()]\n",
        "}\n"
      ]
    },
    {
      "cell_type": "code",
      "execution_count": 18,
      "metadata": {
        "id": "QJQQ45_RHzMa"
      },
      "outputs": [],
      "source": [
        "# Map coded values to actual data ranges\n",
        "design_df = pd.DataFrame(factorial_design, columns=[factor_1, factor_2])\n",
        "design_df[factor_1] = design_df[factor_1].map({-1: low_high[factor_1][0], 1: low_high[factor_1][1]})\n",
        "design_df[factor_2] = design_df[factor_2].map({-1: low_high[factor_2][0], 1: low_high[factor_2][1]})"
      ]
    },
    {
      "cell_type": "code",
      "execution_count": 19,
      "metadata": {
        "colab": {
          "base_uri": "https://localhost:8080/",
          "height": 175
        },
        "id": "FI8a6pVZH0-R",
        "outputId": "b9e83b84-1c4e-46f1-a383-f560ca36c81b"
      },
      "outputs": [
        {
          "data": {
            "text/html": [
              "<div>\n",
              "<style scoped>\n",
              "    .dataframe tbody tr th:only-of-type {\n",
              "        vertical-align: middle;\n",
              "    }\n",
              "\n",
              "    .dataframe tbody tr th {\n",
              "        vertical-align: top;\n",
              "    }\n",
              "\n",
              "    .dataframe thead th {\n",
              "        text-align: right;\n",
              "    }\n",
              "</style>\n",
              "<table border=\"1\" class=\"dataframe\">\n",
              "  <thead>\n",
              "    <tr style=\"text-align: right;\">\n",
              "      <th></th>\n",
              "      <th>Crystal_Structure</th>\n",
              "      <th>Specific_Gravity</th>\n",
              "    </tr>\n",
              "  </thead>\n",
              "  <tbody>\n",
              "    <tr>\n",
              "      <th>0</th>\n",
              "      <td>0.0</td>\n",
              "      <td>0.000</td>\n",
              "    </tr>\n",
              "    <tr>\n",
              "      <th>1</th>\n",
              "      <td>6.0</td>\n",
              "      <td>0.000</td>\n",
              "    </tr>\n",
              "    <tr>\n",
              "      <th>2</th>\n",
              "      <td>0.0</td>\n",
              "      <td>9.593</td>\n",
              "    </tr>\n",
              "    <tr>\n",
              "      <th>3</th>\n",
              "      <td>6.0</td>\n",
              "      <td>9.593</td>\n",
              "    </tr>\n",
              "  </tbody>\n",
              "</table>\n",
              "</div>"
            ],
            "text/plain": [
              "   Crystal_Structure  Specific_Gravity\n",
              "0                0.0             0.000\n",
              "1                6.0             0.000\n",
              "2                0.0             9.593\n",
              "3                6.0             9.593"
            ]
          },
          "execution_count": 19,
          "metadata": {},
          "output_type": "execute_result"
        }
      ],
      "source": [
        "design_df"
      ]
    },
    {
      "cell_type": "code",
      "execution_count": 20,
      "metadata": {
        "id": "DL_8y15HH8zB"
      },
      "outputs": [],
      "source": [
        "# Merge with response variable (Optical Values)\n",
        "design_df[response_var] = np.random.uniform(df[response_var].min(), df[response_var].max(), len(design_df))"
      ]
    },
    {
      "cell_type": "code",
      "execution_count": 21,
      "metadata": {
        "id": "8DbIht-MIDcZ"
      },
      "outputs": [],
      "source": [
        "# Fit factorial model\n",
        "formula = f\"{response_var} ~ {factor_1} + {factor_2} + {factor_1}:{factor_2}\"\n",
        "model = smf.ols(formula, data=design_df).fit()"
      ]
    },
    {
      "cell_type": "code",
      "execution_count": 22,
      "metadata": {
        "colab": {
          "base_uri": "https://localhost:8080/"
        },
        "id": "t_VoOFhYJm9B",
        "outputId": "0723e0b0-fa04-4dbf-f3d1-44aa6b379222"
      },
      "outputs": [
        {
          "name": "stdout",
          "output_type": "stream",
          "text": [
            "                            OLS Regression Results                            \n",
            "==============================================================================\n",
            "Dep. Variable:                Optical   R-squared:                       1.000\n",
            "Model:                            OLS   Adj. R-squared:                    nan\n",
            "Method:                 Least Squares   F-statistic:                       nan\n",
            "Date:                Sun, 23 Feb 2025   Prob (F-statistic):                nan\n",
            "Time:                        11:41:44   Log-Likelihood:                 131.13\n",
            "No. Observations:                   4   AIC:                            -254.3\n",
            "Df Residuals:                       0   BIC:                            -256.7\n",
            "Df Model:                           3                                         \n",
            "Covariance Type:            nonrobust                                         \n",
            "======================================================================================================\n",
            "                                         coef    std err          t      P>|t|      [0.025      0.975]\n",
            "------------------------------------------------------------------------------------------------------\n",
            "Intercept                              0.1460        inf          0        nan         nan         nan\n",
            "Crystal_Structure                      0.0492        inf          0        nan         nan         nan\n",
            "Specific_Gravity                       0.3251        inf          0        nan         nan         nan\n",
            "Crystal_Structure:Specific_Gravity    -0.0075        inf         -0        nan         nan         nan\n",
            "==============================================================================\n",
            "Omnibus:                          nan   Durbin-Watson:                   0.238\n",
            "Prob(Omnibus):                    nan   Jarque-Bera (JB):                0.167\n",
            "Skew:                           0.000   Prob(JB):                        0.920\n",
            "Kurtosis:                       2.000   Cond. No.                         59.9\n",
            "==============================================================================\n",
            "\n",
            "Notes:\n",
            "[1] Standard Errors assume that the covariance matrix of the errors is correctly specified.\n"
          ]
        },
        {
          "name": "stderr",
          "output_type": "stream",
          "text": [
            "c:\\ProgramData\\anaconda3\\Lib\\site-packages\\statsmodels\\stats\\stattools.py:74: ValueWarning: omni_normtest is not valid with less than 8 observations; 4 samples were given.\n",
            "  warn(\"omni_normtest is not valid with less than 8 observations; %i \"\n",
            "c:\\ProgramData\\anaconda3\\Lib\\site-packages\\statsmodels\\regression\\linear_model.py:1765: RuntimeWarning: divide by zero encountered in divide\n",
            "  return 1 - (np.divide(self.nobs - self.k_constant, self.df_resid)\n",
            "c:\\ProgramData\\anaconda3\\Lib\\site-packages\\statsmodels\\regression\\linear_model.py:1765: RuntimeWarning: invalid value encountered in scalar multiply\n",
            "  return 1 - (np.divide(self.nobs - self.k_constant, self.df_resid)\n",
            "c:\\ProgramData\\anaconda3\\Lib\\site-packages\\statsmodels\\regression\\linear_model.py:1687: RuntimeWarning: divide by zero encountered in scalar divide\n",
            "  return np.dot(wresid, wresid) / self.df_resid\n"
          ]
        }
      ],
      "source": [
        "# Display results\n",
        "print(model.summary())"
      ]
    },
    {
      "cell_type": "code",
      "execution_count": null,
      "metadata": {
        "colab": {
          "base_uri": "https://localhost:8080/",
          "height": 529
        },
        "id": "0zQm00EuJrzR",
        "outputId": "c3d1a95b-9300-4159-f7f1-722268df5907"
      },
      "outputs": [
        {
          "data": {
            "image/png": "[encoded data removed]",
            "text/plain": [
              "<Figure size 623.236x500 with 1 Axes>"
            ]
          },
          "metadata": {},
          "output_type": "display_data"
        }
      ],
      "source": [
        "# Visualization: Interaction Plot\n",
        "sns.lmplot(data=design_df, x=factor_1, y=response_var, hue=factor_2, ci=None)\n",
        "plt.title(\"Factorial Design - Interaction Plot\")\n",
        "plt.show()\n",
        "\n"
      ]
    }
  ],
  "metadata": {
    "colab": {
      "provenance": []
    },
    "kernelspec": {
      "display_name": "base",
      "language": "python",
      "name": "python3"
    },
    "language_info": {
      "codemirror_mode": {
        "name": "ipython",
        "version": 3
      },
      "file_extension": ".py",
      "mimetype": "text/x-python",
      "name": "python",
      "nbconvert_exporter": "python",
      "pygments_lexer": "ipython3",
      "version": "3.11.3"
    }
  },
  "nbformat": 4,
  "nbformat_minor": 0
}
