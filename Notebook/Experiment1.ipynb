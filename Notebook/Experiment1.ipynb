{
  "cells": [
    {
      "cell_type": "markdown",
      "metadata": {
        "id": "rey6A-KQgvwC"
      },
      "source": [
        "<h1 style='color: blue; font-size: 34px; font-weight: bold;'> Factorial Design in Mineral Hardness Experiment\n",
        "</h1>\n"
      ]
    },
    {
      "cell_type": "markdown",
      "source": [
        "# Planning the experiment\n"
      ],
      "metadata": {
        "id": "FcWr5ray0-Aa"
      }
    },
    {
      "cell_type": "code",
      "source": [
        "import pandas as pd\n",
        "import matplotlib.pyplot as plt\n",
        "import seaborn as sns"
      ],
      "metadata": {
        "id": "h_qte1ky1HxK"
      },
      "execution_count": 2,
      "outputs": []
    },
    {
      "cell_type": "code",
      "source": [
        "# Load the dataset\n",
        "url = \"https://raw.githubusercontent.com/carsimoes/Experimental-Mineral-Analysis/main/Notebook/Data/Minerals_Database.csv\"\n",
        "df = pd.read_csv(url)\n",
        "\n",
        "# Display basic information about the dataset\n",
        "print(\"Dataset Overview:\")\n",
        "print(df.info())"
      ],
      "metadata": {
        "id": "-M1y6Tu_17bB",
        "outputId": "488e2b7f-18c6-4e48-a0b6-604125353967",
        "colab": {
          "base_uri": "https://localhost:8080/"
        }
      },
      "execution_count": 7,
      "outputs": [
        {
          "output_type": "stream",
          "name": "stdout",
          "text": [
            "Dataset Overview:\n",
            "<class 'pandas.core.frame.DataFrame'>\n",
            "RangeIndex: 3112 entries, 0 to 3111\n",
            "Columns: 140 entries, Unnamed: 0 to Calculated Density\n",
            "dtypes: float64(138), int64(1), object(1)\n",
            "memory usage: 3.3+ MB\n",
            "None\n"
          ]
        }
      ]
    },
    {
      "cell_type": "code",
      "source": [
        "# Show the first few rows\n",
        "print(\"\\nFirst 5 rows:\")\n",
        "print(df.head())"
      ],
      "metadata": {
        "id": "FrqzNqlK2ZVR",
        "outputId": "788730e7-2e15-4ee6-c6e8-8d6f9eb946de",
        "colab": {
          "base_uri": "https://localhost:8080/"
        }
      },
      "execution_count": 8,
      "outputs": [
        {
          "output_type": "stream",
          "name": "stdout",
          "text": [
            "\n",
            "First 5 rows:\n",
            "   Unnamed: 0             Name  Crystal Structure  Mohs Hardness  Diaphaneity  \\\n",
            "0           0  Abenakiite-(Ce)                5.0           4.50          0.0   \n",
            "1           1     Abernathyite                4.0           2.75          3.0   \n",
            "2           2         Abhurite                5.0           2.00          3.0   \n",
            "3           3   Abswurmbachite                0.0           0.00          0.0   \n",
            "4           4       Actinolite                2.0           5.50          2.0   \n",
            "\n",
            "   Specific Gravity  Optical  Refractive Index  Dispersion  Hydrogen  ...  \\\n",
            "0             3.240      3.0             1.580         0.0       0.0  ...   \n",
            "1             3.446      3.0             1.592         0.0       1.0  ...   \n",
            "2             4.420      3.0             2.085         0.0       3.0  ...   \n",
            "3             0.000      0.0             0.000         0.0       0.0  ...   \n",
            "4             1.050      4.0             1.634         0.0       1.0  ...   \n",
            "\n",
            "   Acetate  Phosphate  Sulphate  Carbonate  Ammonium  Hydrated Water  count  \\\n",
            "0      0.0        0.0       0.0        0.0       0.0             0.0   23.0   \n",
            "1      0.0        0.0       0.0        0.0       0.0             1.0    9.0   \n",
            "2      0.0        0.0       0.0        0.0       0.0             0.0   17.0   \n",
            "3      0.0        0.0       0.0        0.0       0.0             0.0   12.0   \n",
            "4      0.0        0.0       0.0        0.0       0.0             0.0   28.0   \n",
            "\n",
            "   Molar Mass  Molar Volume  Calculated Density  \n",
            "0  817.339002      0.123390               5.498  \n",
            "1  435.069330      0.056083               6.439  \n",
            "2  921.092220      0.122631               6.234  \n",
            "3  550.019900      0.033658              13.563  \n",
            "4  861.185368      0.112074               6.378  \n",
            "\n",
            "[5 rows x 140 columns]\n"
          ]
        }
      ]
    }
  ],
  "metadata": {
    "colab": {
      "provenance": []
    },
    "kernelspec": {
      "display_name": "Python 3",
      "language": "python",
      "name": "python3"
    },
    "language_info": {
      "codemirror_mode": {
        "name": "ipython",
        "version": 3
      },
      "file_extension": ".py",
      "mimetype": "text/x-python",
      "name": "python",
      "nbconvert_exporter": "python",
      "pygments_lexer": "ipython3",
      "version": "3.7.3"
    }
  },
  "nbformat": 4,
  "nbformat_minor": 0
}