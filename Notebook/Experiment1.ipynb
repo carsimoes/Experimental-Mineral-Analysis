{
  "cells": [
    {
      "cell_type": "markdown",
      "metadata": {
        "id": "rey6A-KQgvwC"
      },
      "source": [
        "<h1 style='color: blue; font-size: 34px; font-weight: bold;'> Factorial Design in Mineral Hardness Experiment\n",
        "</h1>\n"
      ]
    },
    {
      "cell_type": "markdown",
      "source": [
        "# Planning the experiment\n"
      ],
      "metadata": {
        "id": "FcWr5ray0-Aa"
      }
    },
    {
      "cell_type": "code",
      "source": [
        "import pandas as pd\n",
        "import matplotlib.pyplot as plt\n",
        "import seaborn as sns"
      ],
      "metadata": {
        "id": "h_qte1ky1HxK"
      },
      "execution_count": 2,
      "outputs": []
    },
    {
      "cell_type": "code",
      "source": [
        "# Load the dataset\n",
        "url = \"https://raw.githubusercontent.com/carsimoes/Experimental-Mineral-Analysis/main/Notebook/Data/Minerals_Database.csv\"\n",
        "df = pd.read_csv(url)\n",
        "\n",
        "# Display basic information about the dataset\n",
        "print(\"Dataset Overview:\")\n",
        "print(df.info())"
      ],
      "metadata": {
        "colab": {
          "base_uri": "https://localhost:8080/"
        },
        "id": "-M1y6Tu_17bB",
        "outputId": "488e2b7f-18c6-4e48-a0b6-604125353967"
      },
      "execution_count": 7,
      "outputs": [
        {
          "output_type": "stream",
          "name": "stdout",
          "text": [
            "Dataset Overview:\n",
            "<class 'pandas.core.frame.DataFrame'>\n",
            "RangeIndex: 3112 entries, 0 to 3111\n",
            "Columns: 140 entries, Unnamed: 0 to Calculated Density\n",
            "dtypes: float64(138), int64(1), object(1)\n",
            "memory usage: 3.3+ MB\n",
            "None\n"
          ]
        }
      ]
    },
    {
      "cell_type": "code",
      "source": [
        "# Show the first few rows\n",
        "print(\"\\nFirst 5 rows:\")\n",
        "print(df.head())"
      ],
      "metadata": {
        "colab": {
          "base_uri": "https://localhost:8080/"
        },
        "id": "FrqzNqlK2ZVR",
        "outputId": "788730e7-2e15-4ee6-c6e8-8d6f9eb946de"
      },
      "execution_count": 8,
      "outputs": [
        {
          "output_type": "stream",
          "name": "stdout",
          "text": [
            "\n",
            "First 5 rows:\n",
            "   Unnamed: 0             Name  Crystal Structure  Mohs Hardness  Diaphaneity  \\\n",
            "0           0  Abenakiite-(Ce)                5.0           4.50          0.0   \n",
            "1           1     Abernathyite                4.0           2.75          3.0   \n",
            "2           2         Abhurite                5.0           2.00          3.0   \n",
            "3           3   Abswurmbachite                0.0           0.00          0.0   \n",
            "4           4       Actinolite                2.0           5.50          2.0   \n",
            "\n",
            "   Specific Gravity  Optical  Refractive Index  Dispersion  Hydrogen  ...  \\\n",
            "0             3.240      3.0             1.580         0.0       0.0  ...   \n",
            "1             3.446      3.0             1.592         0.0       1.0  ...   \n",
            "2             4.420      3.0             2.085         0.0       3.0  ...   \n",
            "3             0.000      0.0             0.000         0.0       0.0  ...   \n",
            "4             1.050      4.0             1.634         0.0       1.0  ...   \n",
            "\n",
            "   Acetate  Phosphate  Sulphate  Carbonate  Ammonium  Hydrated Water  count  \\\n",
            "0      0.0        0.0       0.0        0.0       0.0             0.0   23.0   \n",
            "1      0.0        0.0       0.0        0.0       0.0             1.0    9.0   \n",
            "2      0.0        0.0       0.0        0.0       0.0             0.0   17.0   \n",
            "3      0.0        0.0       0.0        0.0       0.0             0.0   12.0   \n",
            "4      0.0        0.0       0.0        0.0       0.0             0.0   28.0   \n",
            "\n",
            "   Molar Mass  Molar Volume  Calculated Density  \n",
            "0  817.339002      0.123390               5.498  \n",
            "1  435.069330      0.056083               6.439  \n",
            "2  921.092220      0.122631               6.234  \n",
            "3  550.019900      0.033658              13.563  \n",
            "4  861.185368      0.112074               6.378  \n",
            "\n",
            "[5 rows x 140 columns]\n"
          ]
        }
      ]
    },
    {
      "cell_type": "code",
      "source": [
        "# Summary statistics\n",
        "print(\"\\nSummary Statistics:\")\n",
        "print(df.describe())"
      ],
      "metadata": {
        "id": "tkszrlU35UBS",
        "outputId": "4c7eb292-7b23-4f92-dcd1-8c5479c5215a",
        "colab": {
          "base_uri": "https://localhost:8080/"
        }
      },
      "execution_count": 9,
      "outputs": [
        {
          "output_type": "stream",
          "name": "stdout",
          "text": [
            "\n",
            "Summary Statistics:\n",
            "        Unnamed: 0  Crystal Structure  Mohs Hardness  Diaphaneity  \\\n",
            "count  3112.000000        3112.000000    3112.000000  3112.000000   \n",
            "mean   1555.500000           0.677057       0.845925     0.405206   \n",
            "std     898.501345           1.388575       1.844267     0.877966   \n",
            "min       0.000000           0.000000       0.000000     0.000000   \n",
            "25%     777.750000           0.000000       0.000000     0.000000   \n",
            "50%    1555.500000           0.000000       0.000000     0.000000   \n",
            "75%    2333.250000           0.000000       0.000000     0.000000   \n",
            "max    3111.000000           6.000000       9.500000     3.000000   \n",
            "\n",
            "       Specific Gravity      Optical  Refractive Index   Dispersion  \\\n",
            "count       3112.000000  3112.000000       3112.000000  3112.000000   \n",
            "mean           0.666800     0.701157          0.323626     0.000459   \n",
            "std            1.481692     1.456768          0.678769     0.006851   \n",
            "min            0.000000     0.000000          0.000000     0.000000   \n",
            "25%            0.000000     0.000000          0.000000     0.000000   \n",
            "50%            0.000000     0.000000          0.000000     0.000000   \n",
            "75%            0.000000     0.000000          0.000000     0.000000   \n",
            "max            9.593000     4.000000          3.383000     0.213000   \n",
            "\n",
            "          Hydrogen       Helium  ...  Acetate  Phosphate  Sulphate  Carbonate  \\\n",
            "count  3112.000000  3112.000000  ...   3112.0     3112.0    3112.0     3112.0   \n",
            "mean      1.311375     0.000321  ...      0.0        0.0       0.0        0.0   \n",
            "std       3.643521     0.017926  ...      0.0        0.0       0.0        0.0   \n",
            "min       0.000000     0.000000  ...      0.0        0.0       0.0        0.0   \n",
            "25%       0.000000     0.000000  ...      0.0        0.0       0.0        0.0   \n",
            "50%       0.000000     0.000000  ...      0.0        0.0       0.0        0.0   \n",
            "75%       1.000000     0.000000  ...      0.0        0.0       0.0        0.0   \n",
            "max      48.000000     1.000000  ...      0.0        0.0       0.0        0.0   \n",
            "\n",
            "          Ammonium  Hydrated Water        count    Molar Mass  Molar Volume  \\\n",
            "count  3112.000000     3112.000000  3112.000000   3112.000000   3112.000000   \n",
            "mean      0.002892        0.903920    19.755463    607.052968      0.110810   \n",
            "std       0.064578        2.654198    19.762060    673.908663      0.117827   \n",
            "min       0.000000        0.000000     1.000000      1.007940      0.011030   \n",
            "25%       0.000000        0.000000     8.000000    239.417117      0.044832   \n",
            "50%       0.000000        0.000000    15.000000    411.769265      0.078555   \n",
            "75%       0.000000        0.000000    25.000000    747.094885      0.134544   \n",
            "max       2.000000       43.000000   385.000000  14241.839600      1.962209   \n",
            "\n",
            "       Calculated Density  \n",
            "count          3112.00000  \n",
            "mean              5.28411  \n",
            "std               2.86038  \n",
            "min               0.07500  \n",
            "25%               3.15475  \n",
            "50%               4.82150  \n",
            "75%               6.80450  \n",
            "max              13.98600  \n",
            "\n",
            "[8 rows x 139 columns]\n"
          ]
        }
      ]
    },
    {
      "cell_type": "code",
      "source": [
        "# Check for missing values\n",
        "print(\"\\nMissing Values:\")\n",
        "print(df.isnull().sum())"
      ],
      "metadata": {
        "id": "dmhB89Bn5fDp",
        "outputId": "d7e10e7a-da77-4147-dda1-2fc3f1da010e",
        "colab": {
          "base_uri": "https://localhost:8080/"
        }
      },
      "execution_count": 10,
      "outputs": [
        {
          "output_type": "stream",
          "name": "stdout",
          "text": [
            "\n",
            "Missing Values:\n",
            "Unnamed: 0            0\n",
            "Name                  0\n",
            "Crystal Structure     0\n",
            "Mohs Hardness         0\n",
            "Diaphaneity           0\n",
            "                     ..\n",
            "Hydrated Water        0\n",
            "count                 0\n",
            "Molar Mass            0\n",
            "Molar Volume          0\n",
            "Calculated Density    0\n",
            "Length: 140, dtype: int64\n"
          ]
        }
      ]
    },
    {
      "cell_type": "code",
      "source": [
        "# Visualizing distribution of Hardness\n",
        "plt.figure(figsize=(8, 5))\n",
        "sns.histplot(df[\"Hardness\"], bins=20, kde=True)\n",
        "plt.title(\"Distribution of Mineral Hardness\")\n",
        "plt.xlabel(\"Hardness (Mohs Scale)\")\n",
        "plt.ylabel(\"Frequency\")\n",
        "plt.show()"
      ],
      "metadata": {
        "id": "9PR3cy6b5hWB",
        "outputId": "599350a7-74ef-44bc-db24-ca7f0e4ba02e",
        "colab": {
          "base_uri": "https://localhost:8080/",
          "height": 564
        }
      },
      "execution_count": 11,
      "outputs": [
        {
          "output_type": "error",
          "ename": "KeyError",
          "evalue": "'Hardness'",
          "traceback": [
            "\u001b[0;31m---------------------------------------------------------------------------\u001b[0m",
            "\u001b[0;31mKeyError\u001b[0m                                  Traceback (most recent call last)",
            "\u001b[0;32m/usr/local/lib/python3.11/dist-packages/pandas/core/indexes/base.py\u001b[0m in \u001b[0;36mget_loc\u001b[0;34m(self, key)\u001b[0m\n\u001b[1;32m   3804\u001b[0m         \u001b[0;32mtry\u001b[0m\u001b[0;34m:\u001b[0m\u001b[0;34m\u001b[0m\u001b[0;34m\u001b[0m\u001b[0m\n\u001b[0;32m-> 3805\u001b[0;31m             \u001b[0;32mreturn\u001b[0m \u001b[0mself\u001b[0m\u001b[0;34m.\u001b[0m\u001b[0m_engine\u001b[0m\u001b[0;34m.\u001b[0m\u001b[0mget_loc\u001b[0m\u001b[0;34m(\u001b[0m\u001b[0mcasted_key\u001b[0m\u001b[0;34m)\u001b[0m\u001b[0;34m\u001b[0m\u001b[0;34m\u001b[0m\u001b[0m\n\u001b[0m\u001b[1;32m   3806\u001b[0m         \u001b[0;32mexcept\u001b[0m \u001b[0mKeyError\u001b[0m \u001b[0;32mas\u001b[0m \u001b[0merr\u001b[0m\u001b[0;34m:\u001b[0m\u001b[0;34m\u001b[0m\u001b[0;34m\u001b[0m\u001b[0m\n",
            "\u001b[0;32mindex.pyx\u001b[0m in \u001b[0;36mpandas._libs.index.IndexEngine.get_loc\u001b[0;34m()\u001b[0m\n",
            "\u001b[0;32mindex.pyx\u001b[0m in \u001b[0;36mpandas._libs.index.IndexEngine.get_loc\u001b[0;34m()\u001b[0m\n",
            "\u001b[0;32mpandas/_libs/hashtable_class_helper.pxi\u001b[0m in \u001b[0;36mpandas._libs.hashtable.PyObjectHashTable.get_item\u001b[0;34m()\u001b[0m\n",
            "\u001b[0;32mpandas/_libs/hashtable_class_helper.pxi\u001b[0m in \u001b[0;36mpandas._libs.hashtable.PyObjectHashTable.get_item\u001b[0;34m()\u001b[0m\n",
            "\u001b[0;31mKeyError\u001b[0m: 'Hardness'",
            "\nThe above exception was the direct cause of the following exception:\n",
            "\u001b[0;31mKeyError\u001b[0m                                  Traceback (most recent call last)",
            "\u001b[0;32m<ipython-input-11-91478700dcde>\u001b[0m in \u001b[0;36m<cell line: 0>\u001b[0;34m()\u001b[0m\n\u001b[1;32m      1\u001b[0m \u001b[0;31m# Visualizing distribution of Hardness\u001b[0m\u001b[0;34m\u001b[0m\u001b[0;34m\u001b[0m\u001b[0m\n\u001b[1;32m      2\u001b[0m \u001b[0mplt\u001b[0m\u001b[0;34m.\u001b[0m\u001b[0mfigure\u001b[0m\u001b[0;34m(\u001b[0m\u001b[0mfigsize\u001b[0m\u001b[0;34m=\u001b[0m\u001b[0;34m(\u001b[0m\u001b[0;36m8\u001b[0m\u001b[0;34m,\u001b[0m \u001b[0;36m5\u001b[0m\u001b[0;34m)\u001b[0m\u001b[0;34m)\u001b[0m\u001b[0;34m\u001b[0m\u001b[0;34m\u001b[0m\u001b[0m\n\u001b[0;32m----> 3\u001b[0;31m \u001b[0msns\u001b[0m\u001b[0;34m.\u001b[0m\u001b[0mhistplot\u001b[0m\u001b[0;34m(\u001b[0m\u001b[0mdf\u001b[0m\u001b[0;34m[\u001b[0m\u001b[0;34m\"Hardness\"\u001b[0m\u001b[0;34m]\u001b[0m\u001b[0;34m,\u001b[0m \u001b[0mbins\u001b[0m\u001b[0;34m=\u001b[0m\u001b[0;36m20\u001b[0m\u001b[0;34m,\u001b[0m \u001b[0mkde\u001b[0m\u001b[0;34m=\u001b[0m\u001b[0;32mTrue\u001b[0m\u001b[0;34m)\u001b[0m\u001b[0;34m\u001b[0m\u001b[0;34m\u001b[0m\u001b[0m\n\u001b[0m\u001b[1;32m      4\u001b[0m \u001b[0mplt\u001b[0m\u001b[0;34m.\u001b[0m\u001b[0mtitle\u001b[0m\u001b[0;34m(\u001b[0m\u001b[0;34m\"Distribution of Mineral Hardness\"\u001b[0m\u001b[0;34m)\u001b[0m\u001b[0;34m\u001b[0m\u001b[0;34m\u001b[0m\u001b[0m\n\u001b[1;32m      5\u001b[0m \u001b[0mplt\u001b[0m\u001b[0;34m.\u001b[0m\u001b[0mxlabel\u001b[0m\u001b[0;34m(\u001b[0m\u001b[0;34m\"Hardness (Mohs Scale)\"\u001b[0m\u001b[0;34m)\u001b[0m\u001b[0;34m\u001b[0m\u001b[0;34m\u001b[0m\u001b[0m\n",
            "\u001b[0;32m/usr/local/lib/python3.11/dist-packages/pandas/core/frame.py\u001b[0m in \u001b[0;36m__getitem__\u001b[0;34m(self, key)\u001b[0m\n\u001b[1;32m   4100\u001b[0m             \u001b[0;32mif\u001b[0m \u001b[0mself\u001b[0m\u001b[0;34m.\u001b[0m\u001b[0mcolumns\u001b[0m\u001b[0;34m.\u001b[0m\u001b[0mnlevels\u001b[0m \u001b[0;34m>\u001b[0m \u001b[0;36m1\u001b[0m\u001b[0;34m:\u001b[0m\u001b[0;34m\u001b[0m\u001b[0;34m\u001b[0m\u001b[0m\n\u001b[1;32m   4101\u001b[0m                 \u001b[0;32mreturn\u001b[0m \u001b[0mself\u001b[0m\u001b[0;34m.\u001b[0m\u001b[0m_getitem_multilevel\u001b[0m\u001b[0;34m(\u001b[0m\u001b[0mkey\u001b[0m\u001b[0;34m)\u001b[0m\u001b[0;34m\u001b[0m\u001b[0;34m\u001b[0m\u001b[0m\n\u001b[0;32m-> 4102\u001b[0;31m             \u001b[0mindexer\u001b[0m \u001b[0;34m=\u001b[0m \u001b[0mself\u001b[0m\u001b[0;34m.\u001b[0m\u001b[0mcolumns\u001b[0m\u001b[0;34m.\u001b[0m\u001b[0mget_loc\u001b[0m\u001b[0;34m(\u001b[0m\u001b[0mkey\u001b[0m\u001b[0;34m)\u001b[0m\u001b[0;34m\u001b[0m\u001b[0;34m\u001b[0m\u001b[0m\n\u001b[0m\u001b[1;32m   4103\u001b[0m             \u001b[0;32mif\u001b[0m \u001b[0mis_integer\u001b[0m\u001b[0;34m(\u001b[0m\u001b[0mindexer\u001b[0m\u001b[0;34m)\u001b[0m\u001b[0;34m:\u001b[0m\u001b[0;34m\u001b[0m\u001b[0;34m\u001b[0m\u001b[0m\n\u001b[1;32m   4104\u001b[0m                 \u001b[0mindexer\u001b[0m \u001b[0;34m=\u001b[0m \u001b[0;34m[\u001b[0m\u001b[0mindexer\u001b[0m\u001b[0;34m]\u001b[0m\u001b[0;34m\u001b[0m\u001b[0;34m\u001b[0m\u001b[0m\n",
            "\u001b[0;32m/usr/local/lib/python3.11/dist-packages/pandas/core/indexes/base.py\u001b[0m in \u001b[0;36mget_loc\u001b[0;34m(self, key)\u001b[0m\n\u001b[1;32m   3810\u001b[0m             ):\n\u001b[1;32m   3811\u001b[0m                 \u001b[0;32mraise\u001b[0m \u001b[0mInvalidIndexError\u001b[0m\u001b[0;34m(\u001b[0m\u001b[0mkey\u001b[0m\u001b[0;34m)\u001b[0m\u001b[0;34m\u001b[0m\u001b[0;34m\u001b[0m\u001b[0m\n\u001b[0;32m-> 3812\u001b[0;31m             \u001b[0;32mraise\u001b[0m \u001b[0mKeyError\u001b[0m\u001b[0;34m(\u001b[0m\u001b[0mkey\u001b[0m\u001b[0;34m)\u001b[0m \u001b[0;32mfrom\u001b[0m \u001b[0merr\u001b[0m\u001b[0;34m\u001b[0m\u001b[0;34m\u001b[0m\u001b[0m\n\u001b[0m\u001b[1;32m   3813\u001b[0m         \u001b[0;32mexcept\u001b[0m \u001b[0mTypeError\u001b[0m\u001b[0;34m:\u001b[0m\u001b[0;34m\u001b[0m\u001b[0;34m\u001b[0m\u001b[0m\n\u001b[1;32m   3814\u001b[0m             \u001b[0;31m# If we have a listlike key, _check_indexing_error will raise\u001b[0m\u001b[0;34m\u001b[0m\u001b[0;34m\u001b[0m\u001b[0m\n",
            "\u001b[0;31mKeyError\u001b[0m: 'Hardness'"
          ]
        },
        {
          "output_type": "display_data",
          "data": {
            "text/plain": [
              "<Figure size 800x500 with 0 Axes>"
            ]
          },
          "metadata": {}
        }
      ]
    }
  ],
  "metadata": {
    "colab": {
      "provenance": []
    },
    "kernelspec": {
      "display_name": "Python 3",
      "language": "python",
      "name": "python3"
    },
    "language_info": {
      "codemirror_mode": {
        "name": "ipython",
        "version": 3
      },
      "file_extension": ".py",
      "mimetype": "text/x-python",
      "name": "python",
      "nbconvert_exporter": "python",
      "pygments_lexer": "ipython3",
      "version": "3.7.3"
    }
  },
  "nbformat": 4,
  "nbformat_minor": 0
}